{
  "nbformat": 4,
  "nbformat_minor": 0,
  "metadata": {
    "colab": {
      "provenance": []
    },
    "kernelspec": {
      "name": "python3",
      "display_name": "Python 3"
    },
    "language_info": {
      "name": "python"
    },
    "accelerator": "GPU",
    "gpuClass": "standard"
  },
  "cells": [
    {
      "cell_type": "code",
      "execution_count": 1,
      "metadata": {
        "id": "z8hu7nU6XL7a"
      },
      "outputs": [],
      "source": [
        "import torch\n",
        "import torchvision\n",
        "import torchvision.transforms as transforms\n",
        "from torch import nn\n",
        "import torch\n",
        "from torch import nn\n",
        "from IPython import display\n",
        "import torch.nn.functional as F\n",
        "import torch.optim as optim\n",
        "import time\n",
        "import matplotlib.pyplot as plt\n",
        "import torch.optim.lr_scheduler as lr_scheduler\n",
        "#device = torch.device(\"cuda:0\" if torch.cuda.is_available() else \"cpu\")"
      ]
    },
    {
      "cell_type": "code",
      "source": [
        "# define a set of image transformations to be applied during data augmentation\n",
        "transform = transforms.Compose([\n",
        "    transforms.RandomHorizontalFlip(), # randomly flip the images horizontally\n",
        "    transforms.RandomCrop(32, padding=4),  # randomly crop the images to 32x32 with 4 pixels of padding\n",
        "    transforms.ColorJitter(brightness=0.2, contrast=0.2, saturation=0.2, hue=0.2), # randomly adjust brightness, contrast, saturation, and hue of the images\n",
        "    transforms.ToTensor(), # convert the images to PyTorch tensors\n",
        "    transforms.Normalize((0.5, 0.5, 0.5), (0.5, 0.5, 0.5)) # normalize the pixel values to have mean 0.5 and standard deviation 0.5 in each channel\n",
        "])\n",
        "# define the batch size for training\n",
        "batch_size=150\n",
        "\n",
        "# load the CIFAR-10 training dataset, apply the defined transformations, and create a data loader\n",
        "trainset = torchvision.datasets.CIFAR10(root='./data', train=True,\n",
        "                                        download=True, transform=transform )\n",
        "trainloader = torch.utils.data.DataLoader(trainset, \n",
        "                                          shuffle=True,batch_size=batch_size,num_workers=2)\n",
        "\n",
        "# load the CIFAR-10 test dataset, apply the same transformations, and create a data loader\n",
        "testset = torchvision.datasets.CIFAR10(root='./data', train=False,\n",
        "                                       download=True, transform=transform)\n",
        "testloader = torch.utils.data.DataLoader(testset,\n",
        "                                         shuffle=False, batch_size=batch_size,num_workers=2)"
      ],
      "metadata": {
        "colab": {
          "base_uri": "https://localhost:8080/"
        },
        "id": "a45g9APGXY1B",
        "outputId": "03da3fd4-a1b3-4cc3-cd6c-b08fbb6886ad"
      },
      "execution_count": 2,
      "outputs": [
        {
          "output_type": "stream",
          "name": "stdout",
          "text": [
            "Downloading https://www.cs.toronto.edu/~kriz/cifar-10-python.tar.gz to ./data/cifar-10-python.tar.gz\n"
          ]
        },
        {
          "output_type": "stream",
          "name": "stderr",
          "text": [
            "100%|██████████| 170498071/170498071 [00:02<00:00, 70690984.20it/s]\n"
          ]
        },
        {
          "output_type": "stream",
          "name": "stdout",
          "text": [
            "Extracting ./data/cifar-10-python.tar.gz to ./data\n",
            "Files already downloaded and verified\n"
          ]
        }
      ]
    },
    {
      "cell_type": "code",
      "source": [
        "class ConvBlock(nn.Module):\n",
        "    def __init__(self, in_channels, out_channels, k_size=5,res=False):\n",
        "        super(ConvBlock, self).__init__()\n",
        "\n",
        "        # Define a ModuleList to store multiple convolution layers:\n",
        "        self.conv_layers = nn.ModuleList()\n",
        "\n",
        "        # Add k_size number of convolution layers to the ModuleList:\n",
        "        for i in range(k_size):\n",
        "            conv_layer = nn.Conv2d(in_channels, out_channels, kernel_size=3, padding=1)\n",
        "            # Initialize the weights of the convolution layer using xavier_normal:\n",
        "            nn.init.xavier_normal_(conv_layer.weight, gain=nn.init.calculate_gain('relu'))\n",
        "            self.conv_layers.append(conv_layer)\n",
        "\n",
        "        # Define an adaptive average pooling layer:\n",
        "        self.avg_pooling = nn.AdaptiveAvgPool2d((1, 1))\n",
        "\n",
        "        # Define a fully connected layer:\n",
        "        self.fc_layer = nn.Linear(in_channels, k_size)\n",
        "        nn.init.xavier_normal_(self.fc_layer.weight)\n",
        "        \n",
        "        # If extra connection is needed:\n",
        "        self.extra_conv = None\n",
        "        if res:\n",
        "            # Define an extra convolution layer:\n",
        "            self.extra_conv = nn.Conv2d(in_channels, out_channels, kernel_size=1, stride=1, padding=0)\n",
        "            # Define a batch normalization layer:\n",
        "            self.extra_bn = nn.BatchNorm2d(out_channels)\n",
        "            # Initialize the weights of the convolution layer using xavier_normal:\n",
        "            nn.init.xavier_normal_(self.extra_conv.weight, gain=nn.init.calculate_gain('relu'))\n",
        "            \n",
        "\n",
        "    def forward(self, x):\n",
        "        # Get the batch size, number of channels, height and width of the input tensor:\n",
        "        b, c, _, _ = x.size()\n",
        "        # Apply adaptive average pooling to the input tensor:\n",
        "        x_avg = self.avg_pooling(x)\n",
        "        # Apply the fully connected layer to the output of adaptive average pooling:\n",
        "        x_fc = self.fc_layer(x_avg.view(b, c))\n",
        "        # Apply softmax activation to the output of fully connected layer, and reshape the tensor:\n",
        "        x_fc = F.softmax(x_fc, dim=1).view(b, -1, 1, 1)\n",
        "        # Initialize a variable to store the sum of output tensors of convolution layers:\n",
        "        sum = 0\n",
        "        for i, conv_layer in enumerate(self.conv_layers):\n",
        "            # Multiply the output tensor of each convolution layer with corresponding element of x_fc, and add it to the sum:\n",
        "            sum += x_fc[:, i:i+1] * conv_layer(x)\n",
        "        \n",
        "        # If residual connection is needed:\n",
        "        extra_layer=None\n",
        "        if self.extra_conv is not None:\n",
        "            # Apply the extra convolution layer to the input tensor, and pass it through batch normalization layer:\n",
        "            extra_layer = self.extra_bn(self.extra_conv(x))\n",
        "            \n",
        "            \n",
        "        if extra_layer!=None:\n",
        "          # Add the extra layer tensor to the sum tensor:\n",
        "          sum += extra_layer\n",
        "          \n",
        "        return sum"
      ],
      "metadata": {
        "id": "rlnOvuLCXZcI"
      },
      "execution_count": 3,
      "outputs": []
    },
    {
      "cell_type": "code",
      "source": [
        "class CIFAR10(nn.Module):\n",
        "    def __init__(self):\n",
        "        super(CIFAR10, self).__init__()\n",
        "\n",
        "        # Define the backbone of the model\n",
        "        self.block = nn.Sequential(\n",
        "            ConvBlock(in_channels=3, out_channels=64, k_size=5,res=True), # Use a ConvBlock with residual connection\n",
        "            nn.BatchNorm2d(64),                                           # Batch normalization layer\n",
        "            nn.LeakyReLU(inplace=True),                                   # Leaky ReLU activation function\n",
        "            ConvBlock(in_channels=64, out_channels=64, k_size=5,res=False), # Use a ConvBlock without residual connection\n",
        "            nn.BatchNorm2d(64),                                             # Batch normalization layer\n",
        "            nn.LeakyReLU(inplace=True),                                     # Leaky ReLU activation function\n",
        "            nn.MaxPool2d(2, 2),                                             # Max pooling layer    \n",
        "            ConvBlock(in_channels=64, out_channels=128, k_size=5,res=True),\n",
        "            nn.BatchNorm2d(128),\n",
        "            nn.LeakyReLU(inplace=True),\n",
        "            ConvBlock(in_channels=128, out_channels=128, k_size=5,res=False),\n",
        "            nn.BatchNorm2d(128),\n",
        "            nn.LeakyReLU(inplace=True),\n",
        "            ConvBlock(in_channels=128, out_channels=256, k_size=5,res=True),\n",
        "            nn.BatchNorm2d(256),\n",
        "            nn.LeakyReLU(inplace=True),\n",
        "            nn.MaxPool2d(2, 2),\n",
        "            ConvBlock(in_channels=256, out_channels=256, k_size=5,res=False),\n",
        "            nn.BatchNorm2d(256),\n",
        "            nn.LeakyReLU(inplace=True),\n",
        "            ConvBlock(in_channels=256, out_channels=512, k_size=5,res=True),\n",
        "            nn.BatchNorm2d(512),\n",
        "            nn.LeakyReLU(inplace=True),\n",
        "            ConvBlock(in_channels=512, out_channels=512, k_size=5,res=False),\n",
        "            nn.BatchNorm2d(512),\n",
        "            nn.LeakyReLU(inplace=True),\n",
        "            nn.MaxPool2d(2, 2),\n",
        "            ConvBlock(in_channels=512, out_channels=1024, k_size=5,res=True),\n",
        "            nn.BatchNorm2d(1024),\n",
        "            nn.LeakyReLU(inplace=True),\n",
        "            ConvBlock(in_channels=1024, out_channels=1024, k_size=5,res=True),\n",
        "            nn.BatchNorm2d(1024),\n",
        "            nn.LeakyReLU(inplace=True),\n",
        "            nn.MaxPool2d(2, 2),\n",
        "        )\n",
        "\n",
        "        # Define the classifier as a sequence of layers\n",
        "        self.classifier = nn.Sequential(\n",
        "            nn.AdaptiveAvgPool2d((1, 1)),  # Reduce the spatial dimensions to 1x1 using AdaptiveAvgPool\n",
        "            nn.Flatten(),                  # Flatten the tensor into a 1D vector\n",
        "            # defining a sequence for an MLP \n",
        "            nn.Linear(1024,512),           # Fully connected layer with 1024 inputs and 512 outputs\n",
        "            nn.LeakyReLU(),                # Leaky ReLU activation function\n",
        "            nn.Linear(512,10)              # Fully connected layer with 512 inputs and 10 outputs\n",
        "                            \n",
        "                       # Fully connected layer to produce the final class scores\n",
        "        )\n",
        "\n",
        "    # Define the forward pass of the model\n",
        "    def forward(self, x):\n",
        "        x = self.block(x)          # Pass the input through the backbone\n",
        "        x = self.classifier(x)        # Pass the output of the backbone through the classifier\n",
        "        return x\n",
        "\n",
        "# Create an instance of the CIFAR10Model class\n",
        "model = CIFAR10()\n",
        "\n"
      ],
      "metadata": {
        "id": "t_xg145DXmKq"
      },
      "execution_count": 4,
      "outputs": []
    },
    {
      "cell_type": "code",
      "source": [
        "device = torch.device(\"cuda:0\" if torch.cuda.is_available() else \"cpu\")\n",
        "model.to(device)\n",
        "loss = nn.CrossEntropyLoss()\n",
        "learning_rate = 0.001\n",
        "optimizer = optim.Adam(model.parameters(), lr=learning_rate)\n",
        "#scheduler = lr_scheduler.CosineAnnealingLR(optimizer, T_max=200, eta_min=1e-6)"
      ],
      "metadata": {
        "id": "K2VUaV6rXn8T"
      },
      "execution_count": 5,
      "outputs": []
    },
    {
      "cell_type": "code",
      "source": [
        "\n",
        "def accuracy(y_hat, y):  #y_hat is a matrix; 2nd dimension stores prediction scores for each class.\n",
        "    \"\"\"Compute the number of correct predictions.\"\"\"\n",
        "    if len(y_hat.shape) > 1 and y_hat.shape[1] > 1:\n",
        "        y_hat = y_hat.argmax(axis=1) # Predicted class is the index of max score         \n",
        "    cmp = (y_hat.type(y.dtype) == y)  # because`==` is sensitive to data types\n",
        "    return float(torch.sum(cmp)) # Taking the sum yields the number of correct predictions.\n",
        "class Accumulator:  \n",
        "    \"\"\"For accumulating sums over `n` variables.\"\"\"\n",
        "    def __init__(self, n):\n",
        "        self.data = [0.0] * n # [0, 0, ..., 0]  # Initialize a list with n zeros\n",
        "    def add(self, *args):\n",
        "        self.data = [a + float(b) for a, b in zip(self.data, args)] # Add arguments element-wise to self.data\n",
        "    def reset(self):\n",
        "        self.data = [0.0] * len(self.data) # Reset self.data to a list with len(self.data) zeros\n",
        "    def __getitem__(self, idx):\n",
        "        return self.data[idx] # Return the value at index idx of self.data\n",
        "\n",
        "def evaluate_accuracy(net, data_iter,device): \n",
        "    \"\"\"Compute the accuracy for a model on a dataset.\"\"\"\n",
        "    metric = Accumulator(2)  # No. of correct predictions, no. of predictions\n",
        "    for _, (X, y) in enumerate(data_iter):\n",
        "        X,y=X.to(device), y.to(device) # Move data to the device\n",
        "        metric.add(accuracy(net(X), y), y.numel()) # Add number of correct predictions and number of examples to metric\n",
        "    if(metric[1]==0):\n",
        "      return 0\n",
        "    else:\n",
        "      return metric[0] / metric[1] # Return accuracy as the ratio of correct predictions to total examples\n",
        "\n",
        "def train_epoch_ch3(net, train_iter, loss, optimizer, device, batch_size=4, num_outputs=10):  \n",
        "    \"\"\"The training function for one epoch.\"\"\"\n",
        "    # Set the model to training mode\n",
        "    if isinstance(net, torch.nn.Module):\n",
        "        net.train()\n",
        "    # Sum of training loss, sum of training accuracy, no. of examples\n",
        "    metric = Accumulator(3)\n",
        "    for i, (images, labels) in enumerate(train_iter):\n",
        "        X, y = images.to(device), labels.to(device)  # Move images and labels to the device\n",
        "        # Compute gradients and update parameters\n",
        "        y_hat = net(X)\n",
        "        l = loss(y_hat, y) # Compute loss between predicted and true labels\n",
        "        optimizer.zero_grad() \n",
        "        l.backward() # Compute gradients\n",
        "        optimizer.step() # Update parameters using gradients\n",
        "        metric.add(float(l) * len(y), accuracy(y_hat, y), y.size().numel())\n",
        "    # Return training loss and training accuracy\n",
        "    if(metric[2]==0):\n",
        "      return 0,0\n",
        "    else:\n",
        "      return metric[0] / metric[2], metric[1] / metric[2] \n",
        "\n",
        "Loss=[]\n",
        "Train=[]\n",
        "Test=[]\n",
        "def train_ch3(net, train_iter, test_iter, loss, num_epochs, optimizer,device): \n",
        "    \"\"\"Train a model.\"\"\"\n",
        "    for epoch in range(num_epochs):\n",
        "        train_loss,train_acc = train_epoch_ch3(net, train_iter, loss, optimizer,device)\n",
        "        test_acc = evaluate_accuracy(net, test_iter,device)\n",
        "        #scheduler.step()\n",
        "        print('Train metrics- Loss & Accuracy',train_loss,train_acc)\n",
        "        print('Test Accuracy',test_acc)\n",
        "        Loss.append(train_loss)\n",
        "        Train.append(train_acc)\n",
        "        Test.append(test_acc)\n",
        "    \n",
        "\n",
        "num_epochs = 40\n",
        "train_ch3(model, trainloader, testloader, loss, num_epochs, optimizer,device)"
      ],
      "metadata": {
        "colab": {
          "base_uri": "https://localhost:8080/"
        },
        "id": "gqO26UuvXp9h",
        "outputId": "b236c8e5-c666-4d9c-c574-29d366789f6f"
      },
      "execution_count": 6,
      "outputs": [
        {
          "output_type": "stream",
          "name": "stdout",
          "text": [
            "Train metrics- Loss & Accuracy 1.990979495048523 0.23554\n",
            "Test Accuracy 0.3282\n",
            "Train metrics- Loss & Accuracy 1.612665225148201 0.39066\n",
            "Test Accuracy 0.4723\n",
            "Train metrics- Loss & Accuracy 1.2667465139627456 0.53692\n",
            "Test Accuracy 0.601\n",
            "Train metrics- Loss & Accuracy 1.0191015456318855 0.63806\n",
            "Test Accuracy 0.6697\n",
            "Train metrics- Loss & Accuracy 0.837932665526867 0.70764\n",
            "Test Accuracy 0.7365\n",
            "Train metrics- Loss & Accuracy 0.705518978357315 0.75626\n",
            "Test Accuracy 0.7672\n",
            "Train metrics- Loss & Accuracy 0.6142276260852814 0.78694\n",
            "Test Accuracy 0.7927\n",
            "Train metrics- Loss & Accuracy 0.556702157586813 0.80994\n",
            "Test Accuracy 0.8108\n",
            "Train metrics- Loss & Accuracy 0.5064155849516392 0.82666\n",
            "Test Accuracy 0.812\n",
            "Train metrics- Loss & Accuracy 0.46451448303461074 0.83998\n",
            "Test Accuracy 0.8204\n",
            "Train metrics- Loss & Accuracy 0.43175702169537544 0.85154\n",
            "Test Accuracy 0.8399\n",
            "Train metrics- Loss & Accuracy 0.3984688186943531 0.86138\n",
            "Test Accuracy 0.8431\n",
            "Train metrics- Loss & Accuracy 0.36986132645606995 0.87186\n",
            "Test Accuracy 0.8492\n",
            "Train metrics- Loss & Accuracy 0.3504823293834925 0.87946\n",
            "Test Accuracy 0.8574\n",
            "Train metrics- Loss & Accuracy 0.32361689062416554 0.88774\n",
            "Test Accuracy 0.8501\n",
            "Train metrics- Loss & Accuracy 0.3023537755012512 0.89516\n",
            "Test Accuracy 0.8611\n",
            "Train metrics- Loss & Accuracy 0.28762556049227717 0.9015\n",
            "Test Accuracy 0.8615\n",
            "Train metrics- Loss & Accuracy 0.2695880029797554 0.90558\n",
            "Test Accuracy 0.8701\n",
            "Train metrics- Loss & Accuracy 0.25174501007795336 0.91308\n",
            "Test Accuracy 0.8728\n",
            "Train metrics- Loss & Accuracy 0.23740165685117245 0.91802\n",
            "Test Accuracy 0.8739\n",
            "Train metrics- Loss & Accuracy 0.22149393051862717 0.92226\n",
            "Test Accuracy 0.8705\n",
            "Train metrics- Loss & Accuracy 0.2110477910414338 0.92698\n",
            "Test Accuracy 0.8789\n",
            "Train metrics- Loss & Accuracy 0.19261310134083032 0.93404\n",
            "Test Accuracy 0.8766\n",
            "Train metrics- Loss & Accuracy 0.18698881272599102 0.9347\n",
            "Test Accuracy 0.8807\n",
            "Train metrics- Loss & Accuracy 0.17444809579849244 0.93906\n",
            "Test Accuracy 0.8821\n",
            "Train metrics- Loss & Accuracy 0.16640733625739812 0.942\n",
            "Test Accuracy 0.8786\n",
            "Train metrics- Loss & Accuracy 0.15454792898148298 0.94658\n",
            "Test Accuracy 0.8748\n",
            "Train metrics- Loss & Accuracy 0.14402915219217538 0.94902\n",
            "Test Accuracy 0.8852\n",
            "Train metrics- Loss & Accuracy 0.14161834033578635 0.95162\n",
            "Test Accuracy 0.8933\n",
            "Train metrics- Loss & Accuracy 0.12992432346940042 0.9547\n",
            "Test Accuracy 0.8853\n",
            "Train metrics- Loss & Accuracy 0.12252557464083656 0.95668\n",
            "Test Accuracy 0.8946\n",
            "Train metrics- Loss & Accuracy 0.11726536684855819 0.95974\n",
            "Test Accuracy 0.8838\n",
            "Train metrics- Loss & Accuracy 0.11407875813171267 0.95942\n",
            "Test Accuracy 0.8859\n",
            "Train metrics- Loss & Accuracy 0.10834317829459905 0.9628\n",
            "Test Accuracy 0.8861\n",
            "Train metrics- Loss & Accuracy 0.10390926682390272 0.96404\n",
            "Test Accuracy 0.8912\n",
            "Train metrics- Loss & Accuracy 0.0991305305287242 0.9648\n",
            "Test Accuracy 0.8912\n",
            "Train metrics- Loss & Accuracy 0.0925251520294696 0.96804\n",
            "Test Accuracy 0.8874\n",
            "Train metrics- Loss & Accuracy 0.08426716702617705 0.97142\n",
            "Test Accuracy 0.8919\n",
            "Train metrics- Loss & Accuracy 0.08203577920049429 0.97164\n",
            "Test Accuracy 0.8941\n",
            "Train metrics- Loss & Accuracy 0.08142292333766818 0.97138\n",
            "Test Accuracy 0.8885\n"
          ]
        }
      ]
    },
    {
      "cell_type": "code",
      "source": [
        "x=list(range(1,41))\n",
        "plt.plot(x,Loss)\n",
        "plt.title('Evolution of Loss')\n",
        "plt.xlabel('Epoch')\n",
        "plt.ylabel('Loss') \n",
        "plt.legend()\n",
        "plt.show()"
      ],
      "metadata": {
        "colab": {
          "base_uri": "https://localhost:8080/",
          "height": 509
        },
        "id": "wAWDKpSpXrgO",
        "outputId": "dd844270-6b1d-4f30-e94a-28c5b79236d8"
      },
      "execution_count": 7,
      "outputs": [
        {
          "output_type": "stream",
          "name": "stderr",
          "text": [
            "WARNING:matplotlib.legend:No artists with labels found to put in legend.  Note that artists whose label start with an underscore are ignored when legend() is called with no argument.\n"
          ]
        },
        {
          "output_type": "display_data",
          "data": {
            "text/plain": [
              "<Figure size 640x480 with 1 Axes>"
            ],
            "image/png": "[encoded data removed]"
          },
          "metadata": {}
        }
      ]
    },
    {
      "cell_type": "code",
      "source": [
        "plt.plot(x, Train, color='blue', label='Training Accuracy')\n",
        "plt.plot(x, Test, color='red', label='Test Accuracy')\n",
        "plt.title('Evolution of Accuracies')\n",
        "plt.xlabel('Epoch')\n",
        "plt.ylabel('Accuracy')  \n",
        "plt.legend()\n",
        "plt.show()"
      ],
      "metadata": {
        "colab": {
          "base_uri": "https://localhost:8080/",
          "height": 472
        },
        "id": "x6pjvXzpZ-Yu",
        "outputId": "158fc6ed-0e87-4bba-c0b4-9665ef27947f"
      },
      "execution_count": 8,
      "outputs": [
        {
          "output_type": "display_data",
          "data": {
            "text/plain": [
              "<Figure size 640x480 with 1 Axes>"
            ],
            "image/png": "[encoded data removed]"
          },
          "metadata": {}
        }
      ]
    },
    {
      "cell_type": "code",
      "source": [],
      "metadata": {
        "id": "ii-4o2T3cwPP"
      },
      "execution_count": null,
      "outputs": []
    }
  ]
}